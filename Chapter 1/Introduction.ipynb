{
 "metadata": {
  "name": "",
  "signature": "sha256:7b03204d78b049aad2111ee613686944cb7ea9997841b6709984ec3eb59ee7fc"
 },
 "nbformat": 3,
 "nbformat_minor": 0,
 "worksheets": [
  {
   "cells": [
    {
     "cell_type": "code",
     "collapsed": false,
     "input": [],
     "language": "python",
     "metadata": {},
     "outputs": []
    }
   ],
   "metadata": {}
  }
 ]
}