{
 "metadata": {
  "name": "",
  "signature": "sha256:2df3623ea3183175c6687ef8b19fd4a287978a16908b9c8e2a712647c8836459"
 },
 "nbformat": 3,
 "nbformat_minor": 0,
 "worksheets": [
  {
   "cells": [
    {
     "cell_type": "heading",
     "level": 1,
     "metadata": {},
     "source": [
      "3. Data Pre-processing"
     ]
    },
    {
     "cell_type": "markdown",
     "metadata": {},
     "source": [
      "Data pre-processing techniques generally refer to the addition, deletion, or transformation of training set data. Different models have different sensitivities to the type of predictors in the model; *how* the predictors enter the model is also important.\n",
      "\n",
      "The need for data pre-processing is determined by the type of model being used. Some procedures, such as tree-based models, are notably insensitive to the characteristics of the predictor data. Others, like linear regression, are not. In this chapter, a wide array of possible methodologies are discussed. \n",
      "\n",
      "How the predictors are encoded, called *feature engineering*, can have a significant impact on model performance. Often the most effective encoding of the data is informed by the modeler's understanding of the problem and thus is not derived from any mathematical techniques."
     ]
    },
    {
     "cell_type": "heading",
     "level": 2,
     "metadata": {},
     "source": [
      "3.1 Case Study: Cell Segmentation in High-Content Screening"
     ]
    },
    {
     "cell_type": "markdown",
     "metadata": {},
     "source": [
      "Check if data exists."
     ]
    },
    {
     "cell_type": "code",
     "collapsed": false,
     "input": [
      "!ls -l ../datasets/segmentationOriginal/"
     ],
     "language": "python",
     "metadata": {},
     "outputs": [
      {
       "output_type": "stream",
       "stream": "stdout",
       "text": [
        "total 4016\r\n",
        "-rw-r--r--  1 leigong  staff  2053006 Oct 28 21:06 segmentationOriginal.csv\r\n"
       ]
      }
     ],
     "prompt_number": 1
    },
    {
     "cell_type": "markdown",
     "metadata": {},
     "source": [
      "This dataset is from Hill et al. (2007) that consists of 2019 cells. Of these cells, 1300 were judged to be poorly segmented (PS) and 719 were well segmented (WS); 1009 cells were reserved for the training set."
     ]
    },
    {
     "cell_type": "code",
     "collapsed": false,
     "input": [
      "import numpy as np\n",
      "import pandas as pd\n",
      "\n",
      "cell_segmentation = pd.read_csv(\"../datasets/segmentationOriginal/segmentationOriginal.csv\")"
     ],
     "language": "python",
     "metadata": {},
     "outputs": [],
     "prompt_number": 2
    },
    {
     "cell_type": "code",
     "collapsed": false,
     "input": [
      "cell_segmentation.shape"
     ],
     "language": "python",
     "metadata": {},
     "outputs": [
      {
       "metadata": {},
       "output_type": "pyout",
       "prompt_number": 3,
       "text": [
        "(2019, 120)"
       ]
      }
     ],
     "prompt_number": 3
    },
    {
     "cell_type": "markdown",
     "metadata": {},
     "source": [
      "A first look at the dataset."
     ]
    },
    {
     "cell_type": "code",
     "collapsed": false,
     "input": [
      "cell_segmentation.head(5)"
     ],
     "language": "python",
     "metadata": {},
     "outputs": [
      {
       "html": [
        "<div style=\"max-height:1000px;max-width:1500px;overflow:auto;\">\n",
        "<table border=\"1\" class=\"dataframe\">\n",
        "  <thead>\n",
        "    <tr style=\"text-align: right;\">\n",
        "      <th></th>\n",
        "      <th>Unnamed: 0</th>\n",
        "      <th>Cell</th>\n",
        "      <th>Case</th>\n",
        "      <th>Class</th>\n",
        "      <th>AngleCh1</th>\n",
        "      <th>AngleStatusCh1</th>\n",
        "      <th>AreaCh1</th>\n",
        "      <th>AreaStatusCh1</th>\n",
        "      <th>AvgIntenCh1</th>\n",
        "      <th>AvgIntenCh2</th>\n",
        "      <th>...</th>\n",
        "      <th>VarIntenCh1</th>\n",
        "      <th>VarIntenCh3</th>\n",
        "      <th>VarIntenCh4</th>\n",
        "      <th>VarIntenStatusCh1</th>\n",
        "      <th>VarIntenStatusCh3</th>\n",
        "      <th>VarIntenStatusCh4</th>\n",
        "      <th>WidthCh1</th>\n",
        "      <th>WidthStatusCh1</th>\n",
        "      <th>XCentroid</th>\n",
        "      <th>YCentroid</th>\n",
        "    </tr>\n",
        "  </thead>\n",
        "  <tbody>\n",
        "    <tr>\n",
        "      <th>0</th>\n",
        "      <td> 1</td>\n",
        "      <td> 207827637</td>\n",
        "      <td>  Test</td>\n",
        "      <td> PS</td>\n",
        "      <td> 143.247705</td>\n",
        "      <td> 1</td>\n",
        "      <td> 185</td>\n",
        "      <td> 0</td>\n",
        "      <td> 15.711864</td>\n",
        "      <td>   3.954802</td>\n",
        "      <td>...</td>\n",
        "      <td> 12.474676</td>\n",
        "      <td>  7.609035</td>\n",
        "      <td>   2.714100</td>\n",
        "      <td> 0</td>\n",
        "      <td> 2</td>\n",
        "      <td> 2</td>\n",
        "      <td> 10.642974</td>\n",
        "      <td> 2</td>\n",
        "      <td>  42</td>\n",
        "      <td>  14</td>\n",
        "    </tr>\n",
        "    <tr>\n",
        "      <th>1</th>\n",
        "      <td> 2</td>\n",
        "      <td> 207932307</td>\n",
        "      <td> Train</td>\n",
        "      <td> PS</td>\n",
        "      <td> 133.752037</td>\n",
        "      <td> 0</td>\n",
        "      <td> 819</td>\n",
        "      <td> 1</td>\n",
        "      <td> 31.923274</td>\n",
        "      <td> 205.878517</td>\n",
        "      <td>...</td>\n",
        "      <td> 18.809225</td>\n",
        "      <td> 56.715352</td>\n",
        "      <td> 118.388139</td>\n",
        "      <td> 0</td>\n",
        "      <td> 0</td>\n",
        "      <td> 0</td>\n",
        "      <td> 32.161261</td>\n",
        "      <td> 1</td>\n",
        "      <td> 215</td>\n",
        "      <td> 347</td>\n",
        "    </tr>\n",
        "    <tr>\n",
        "      <th>2</th>\n",
        "      <td> 3</td>\n",
        "      <td> 207932463</td>\n",
        "      <td> Train</td>\n",
        "      <td> WS</td>\n",
        "      <td> 106.646387</td>\n",
        "      <td> 0</td>\n",
        "      <td> 431</td>\n",
        "      <td> 0</td>\n",
        "      <td> 28.038835</td>\n",
        "      <td> 115.315534</td>\n",
        "      <td>...</td>\n",
        "      <td> 17.295643</td>\n",
        "      <td> 37.671053</td>\n",
        "      <td>  49.470524</td>\n",
        "      <td> 0</td>\n",
        "      <td> 0</td>\n",
        "      <td> 0</td>\n",
        "      <td> 21.185525</td>\n",
        "      <td> 0</td>\n",
        "      <td> 371</td>\n",
        "      <td> 252</td>\n",
        "    </tr>\n",
        "    <tr>\n",
        "      <th>3</th>\n",
        "      <td> 4</td>\n",
        "      <td> 207932470</td>\n",
        "      <td> Train</td>\n",
        "      <td> PS</td>\n",
        "      <td>  69.150325</td>\n",
        "      <td> 0</td>\n",
        "      <td> 298</td>\n",
        "      <td> 0</td>\n",
        "      <td> 19.456140</td>\n",
        "      <td> 101.294737</td>\n",
        "      <td>...</td>\n",
        "      <td> 13.818968</td>\n",
        "      <td> 30.005643</td>\n",
        "      <td>  24.749537</td>\n",
        "      <td> 0</td>\n",
        "      <td> 0</td>\n",
        "      <td> 2</td>\n",
        "      <td> 13.392830</td>\n",
        "      <td> 0</td>\n",
        "      <td> 487</td>\n",
        "      <td> 295</td>\n",
        "    </tr>\n",
        "    <tr>\n",
        "      <th>4</th>\n",
        "      <td> 5</td>\n",
        "      <td> 207932455</td>\n",
        "      <td>  Test</td>\n",
        "      <td> PS</td>\n",
        "      <td>   2.887837</td>\n",
        "      <td> 2</td>\n",
        "      <td> 285</td>\n",
        "      <td> 0</td>\n",
        "      <td> 24.275735</td>\n",
        "      <td> 111.415441</td>\n",
        "      <td>...</td>\n",
        "      <td> 15.407972</td>\n",
        "      <td> 20.504288</td>\n",
        "      <td>  45.450457</td>\n",
        "      <td> 0</td>\n",
        "      <td> 0</td>\n",
        "      <td> 0</td>\n",
        "      <td> 13.198561</td>\n",
        "      <td> 0</td>\n",
        "      <td> 283</td>\n",
        "      <td> 159</td>\n",
        "    </tr>\n",
        "  </tbody>\n",
        "</table>\n",
        "<p>5 rows \u00d7 120 columns</p>\n",
        "</div>"
       ],
       "metadata": {},
       "output_type": "pyout",
       "prompt_number": 4,
       "text": [
        "   Unnamed: 0       Cell   Case Class    AngleCh1  AngleStatusCh1  AreaCh1  \\\n",
        "0           1  207827637   Test    PS  143.247705               1      185   \n",
        "1           2  207932307  Train    PS  133.752037               0      819   \n",
        "2           3  207932463  Train    WS  106.646387               0      431   \n",
        "3           4  207932470  Train    PS   69.150325               0      298   \n",
        "4           5  207932455   Test    PS    2.887837               2      285   \n",
        "\n",
        "   AreaStatusCh1  AvgIntenCh1  AvgIntenCh2     ...       VarIntenCh1  \\\n",
        "0              0    15.711864     3.954802     ...         12.474676   \n",
        "1              1    31.923274   205.878517     ...         18.809225   \n",
        "2              0    28.038835   115.315534     ...         17.295643   \n",
        "3              0    19.456140   101.294737     ...         13.818968   \n",
        "4              0    24.275735   111.415441     ...         15.407972   \n",
        "\n",
        "   VarIntenCh3  VarIntenCh4  VarIntenStatusCh1  VarIntenStatusCh3  \\\n",
        "0     7.609035     2.714100                  0                  2   \n",
        "1    56.715352   118.388139                  0                  0   \n",
        "2    37.671053    49.470524                  0                  0   \n",
        "3    30.005643    24.749537                  0                  0   \n",
        "4    20.504288    45.450457                  0                  0   \n",
        "\n",
        "   VarIntenStatusCh4   WidthCh1  WidthStatusCh1  XCentroid  YCentroid  \n",
        "0                  2  10.642974               2         42         14  \n",
        "1                  0  32.161261               1        215        347  \n",
        "2                  0  21.185525               0        371        252  \n",
        "3                  2  13.392830               0        487        295  \n",
        "4                  0  13.198561               0        283        159  \n",
        "\n",
        "[5 rows x 120 columns]"
       ]
      }
     ],
     "prompt_number": 4
    },
    {
     "cell_type": "markdown",
     "metadata": {},
     "source": [
      "This chapter will use the training set samples to demonstrate data pre-processing techniques."
     ]
    },
    {
     "cell_type": "code",
     "collapsed": false,
     "input": [
      "cell_segmentation.groupby('Case').count()"
     ],
     "language": "python",
     "metadata": {},
     "outputs": [
      {
       "html": [
        "<div style=\"max-height:1000px;max-width:1500px;overflow:auto;\">\n",
        "<table border=\"1\" class=\"dataframe\">\n",
        "  <thead>\n",
        "    <tr style=\"text-align: right;\">\n",
        "      <th></th>\n",
        "      <th>Unnamed: 0</th>\n",
        "      <th>Cell</th>\n",
        "      <th>Class</th>\n",
        "      <th>AngleCh1</th>\n",
        "      <th>AngleStatusCh1</th>\n",
        "      <th>AreaCh1</th>\n",
        "      <th>AreaStatusCh1</th>\n",
        "      <th>AvgIntenCh1</th>\n",
        "      <th>AvgIntenCh2</th>\n",
        "      <th>AvgIntenCh3</th>\n",
        "      <th>...</th>\n",
        "      <th>VarIntenCh1</th>\n",
        "      <th>VarIntenCh3</th>\n",
        "      <th>VarIntenCh4</th>\n",
        "      <th>VarIntenStatusCh1</th>\n",
        "      <th>VarIntenStatusCh3</th>\n",
        "      <th>VarIntenStatusCh4</th>\n",
        "      <th>WidthCh1</th>\n",
        "      <th>WidthStatusCh1</th>\n",
        "      <th>XCentroid</th>\n",
        "      <th>YCentroid</th>\n",
        "    </tr>\n",
        "    <tr>\n",
        "      <th>Case</th>\n",
        "      <th></th>\n",
        "      <th></th>\n",
        "      <th></th>\n",
        "      <th></th>\n",
        "      <th></th>\n",
        "      <th></th>\n",
        "      <th></th>\n",
        "      <th></th>\n",
        "      <th></th>\n",
        "      <th></th>\n",
        "      <th></th>\n",
        "      <th></th>\n",
        "      <th></th>\n",
        "      <th></th>\n",
        "      <th></th>\n",
        "      <th></th>\n",
        "      <th></th>\n",
        "      <th></th>\n",
        "      <th></th>\n",
        "      <th></th>\n",
        "      <th></th>\n",
        "    </tr>\n",
        "  </thead>\n",
        "  <tbody>\n",
        "    <tr>\n",
        "      <th>Test</th>\n",
        "      <td> 1010</td>\n",
        "      <td> 1010</td>\n",
        "      <td> 1010</td>\n",
        "      <td> 1010</td>\n",
        "      <td> 1010</td>\n",
        "      <td> 1010</td>\n",
        "      <td> 1010</td>\n",
        "      <td> 1010</td>\n",
        "      <td> 1010</td>\n",
        "      <td> 1010</td>\n",
        "      <td>...</td>\n",
        "      <td> 1010</td>\n",
        "      <td> 1010</td>\n",
        "      <td> 1010</td>\n",
        "      <td> 1010</td>\n",
        "      <td> 1010</td>\n",
        "      <td> 1010</td>\n",
        "      <td> 1010</td>\n",
        "      <td> 1010</td>\n",
        "      <td> 1010</td>\n",
        "      <td> 1010</td>\n",
        "    </tr>\n",
        "    <tr>\n",
        "      <th>Train</th>\n",
        "      <td> 1009</td>\n",
        "      <td> 1009</td>\n",
        "      <td> 1009</td>\n",
        "      <td> 1009</td>\n",
        "      <td> 1009</td>\n",
        "      <td> 1009</td>\n",
        "      <td> 1009</td>\n",
        "      <td> 1009</td>\n",
        "      <td> 1009</td>\n",
        "      <td> 1009</td>\n",
        "      <td>...</td>\n",
        "      <td> 1009</td>\n",
        "      <td> 1009</td>\n",
        "      <td> 1009</td>\n",
        "      <td> 1009</td>\n",
        "      <td> 1009</td>\n",
        "      <td> 1009</td>\n",
        "      <td> 1009</td>\n",
        "      <td> 1009</td>\n",
        "      <td> 1009</td>\n",
        "      <td> 1009</td>\n",
        "    </tr>\n",
        "  </tbody>\n",
        "</table>\n",
        "<p>2 rows \u00d7 119 columns</p>\n",
        "</div>"
       ],
       "metadata": {},
       "output_type": "pyout",
       "prompt_number": 5,
       "text": [
        "       Unnamed: 0  Cell  Class  AngleCh1  AngleStatusCh1  AreaCh1  \\\n",
        "Case                                                                \n",
        "Test         1010  1010   1010      1010            1010     1010   \n",
        "Train        1009  1009   1009      1009            1009     1009   \n",
        "\n",
        "       AreaStatusCh1  AvgIntenCh1  AvgIntenCh2  AvgIntenCh3     ...       \\\n",
        "Case                                                            ...        \n",
        "Test            1010         1010         1010         1010     ...        \n",
        "Train           1009         1009         1009         1009     ...        \n",
        "\n",
        "       VarIntenCh1  VarIntenCh3  VarIntenCh4  VarIntenStatusCh1  \\\n",
        "Case                                                              \n",
        "Test          1010         1010         1010               1010   \n",
        "Train         1009         1009         1009               1009   \n",
        "\n",
        "       VarIntenStatusCh3  VarIntenStatusCh4  WidthCh1  WidthStatusCh1  \\\n",
        "Case                                                                    \n",
        "Test                1010               1010      1010            1010   \n",
        "Train               1009               1009      1009            1009   \n",
        "\n",
        "       XCentroid  YCentroid  \n",
        "Case                         \n",
        "Test        1010       1010  \n",
        "Train       1009       1009  \n",
        "\n",
        "[2 rows x 119 columns]"
       ]
      }
     ],
     "prompt_number": 5
    },
    {
     "cell_type": "code",
     "collapsed": false,
     "input": [
      "# select only training data\n",
      "cell_train = cell_segmentation.ix[cell_segmentation['Case'] == 'Train']\n",
      "\n",
      "cell_train.head(5)"
     ],
     "language": "python",
     "metadata": {},
     "outputs": [
      {
       "html": [
        "<div style=\"max-height:1000px;max-width:1500px;overflow:auto;\">\n",
        "<table border=\"1\" class=\"dataframe\">\n",
        "  <thead>\n",
        "    <tr style=\"text-align: right;\">\n",
        "      <th></th>\n",
        "      <th>Unnamed: 0</th>\n",
        "      <th>Cell</th>\n",
        "      <th>Case</th>\n",
        "      <th>Class</th>\n",
        "      <th>AngleCh1</th>\n",
        "      <th>AngleStatusCh1</th>\n",
        "      <th>AreaCh1</th>\n",
        "      <th>AreaStatusCh1</th>\n",
        "      <th>AvgIntenCh1</th>\n",
        "      <th>AvgIntenCh2</th>\n",
        "      <th>...</th>\n",
        "      <th>VarIntenCh1</th>\n",
        "      <th>VarIntenCh3</th>\n",
        "      <th>VarIntenCh4</th>\n",
        "      <th>VarIntenStatusCh1</th>\n",
        "      <th>VarIntenStatusCh3</th>\n",
        "      <th>VarIntenStatusCh4</th>\n",
        "      <th>WidthCh1</th>\n",
        "      <th>WidthStatusCh1</th>\n",
        "      <th>XCentroid</th>\n",
        "      <th>YCentroid</th>\n",
        "    </tr>\n",
        "  </thead>\n",
        "  <tbody>\n",
        "    <tr>\n",
        "      <th>1 </th>\n",
        "      <td>  2</td>\n",
        "      <td> 207932307</td>\n",
        "      <td> Train</td>\n",
        "      <td> PS</td>\n",
        "      <td> 133.752037</td>\n",
        "      <td> 0</td>\n",
        "      <td> 819</td>\n",
        "      <td> 1</td>\n",
        "      <td> 31.923274</td>\n",
        "      <td> 205.878517</td>\n",
        "      <td>...</td>\n",
        "      <td> 18.809225</td>\n",
        "      <td> 56.715352</td>\n",
        "      <td> 118.388139</td>\n",
        "      <td> 0</td>\n",
        "      <td> 0</td>\n",
        "      <td> 0</td>\n",
        "      <td> 32.161261</td>\n",
        "      <td> 1</td>\n",
        "      <td> 215</td>\n",
        "      <td> 347</td>\n",
        "    </tr>\n",
        "    <tr>\n",
        "      <th>2 </th>\n",
        "      <td>  3</td>\n",
        "      <td> 207932463</td>\n",
        "      <td> Train</td>\n",
        "      <td> WS</td>\n",
        "      <td> 106.646387</td>\n",
        "      <td> 0</td>\n",
        "      <td> 431</td>\n",
        "      <td> 0</td>\n",
        "      <td> 28.038835</td>\n",
        "      <td> 115.315534</td>\n",
        "      <td>...</td>\n",
        "      <td> 17.295643</td>\n",
        "      <td> 37.671053</td>\n",
        "      <td>  49.470524</td>\n",
        "      <td> 0</td>\n",
        "      <td> 0</td>\n",
        "      <td> 0</td>\n",
        "      <td> 21.185525</td>\n",
        "      <td> 0</td>\n",
        "      <td> 371</td>\n",
        "      <td> 252</td>\n",
        "    </tr>\n",
        "    <tr>\n",
        "      <th>3 </th>\n",
        "      <td>  4</td>\n",
        "      <td> 207932470</td>\n",
        "      <td> Train</td>\n",
        "      <td> PS</td>\n",
        "      <td>  69.150325</td>\n",
        "      <td> 0</td>\n",
        "      <td> 298</td>\n",
        "      <td> 0</td>\n",
        "      <td> 19.456140</td>\n",
        "      <td> 101.294737</td>\n",
        "      <td>...</td>\n",
        "      <td> 13.818968</td>\n",
        "      <td> 30.005643</td>\n",
        "      <td>  24.749537</td>\n",
        "      <td> 0</td>\n",
        "      <td> 0</td>\n",
        "      <td> 2</td>\n",
        "      <td> 13.392830</td>\n",
        "      <td> 0</td>\n",
        "      <td> 487</td>\n",
        "      <td> 295</td>\n",
        "    </tr>\n",
        "    <tr>\n",
        "      <th>11</th>\n",
        "      <td> 12</td>\n",
        "      <td> 207932484</td>\n",
        "      <td> Train</td>\n",
        "      <td> WS</td>\n",
        "      <td> 109.416426</td>\n",
        "      <td> 0</td>\n",
        "      <td> 256</td>\n",
        "      <td> 0</td>\n",
        "      <td> 18.828571</td>\n",
        "      <td> 125.938776</td>\n",
        "      <td>...</td>\n",
        "      <td> 13.922937</td>\n",
        "      <td> 18.643027</td>\n",
        "      <td>  40.331747</td>\n",
        "      <td> 0</td>\n",
        "      <td> 0</td>\n",
        "      <td> 2</td>\n",
        "      <td> 17.546861</td>\n",
        "      <td> 0</td>\n",
        "      <td> 211</td>\n",
        "      <td> 495</td>\n",
        "    </tr>\n",
        "    <tr>\n",
        "      <th>14</th>\n",
        "      <td> 15</td>\n",
        "      <td> 207932459</td>\n",
        "      <td> Train</td>\n",
        "      <td> PS</td>\n",
        "      <td> 104.278654</td>\n",
        "      <td> 0</td>\n",
        "      <td> 258</td>\n",
        "      <td> 0</td>\n",
        "      <td> 17.570850</td>\n",
        "      <td> 124.368421</td>\n",
        "      <td>...</td>\n",
        "      <td> 12.324971</td>\n",
        "      <td> 17.747143</td>\n",
        "      <td>  41.928533</td>\n",
        "      <td> 0</td>\n",
        "      <td> 0</td>\n",
        "      <td> 2</td>\n",
        "      <td> 17.660339</td>\n",
        "      <td> 0</td>\n",
        "      <td> 172</td>\n",
        "      <td> 207</td>\n",
        "    </tr>\n",
        "  </tbody>\n",
        "</table>\n",
        "<p>5 rows \u00d7 120 columns</p>\n",
        "</div>"
       ],
       "metadata": {},
       "output_type": "pyout",
       "prompt_number": 6,
       "text": [
        "    Unnamed: 0       Cell   Case Class    AngleCh1  AngleStatusCh1  AreaCh1  \\\n",
        "1            2  207932307  Train    PS  133.752037               0      819   \n",
        "2            3  207932463  Train    WS  106.646387               0      431   \n",
        "3            4  207932470  Train    PS   69.150325               0      298   \n",
        "11          12  207932484  Train    WS  109.416426               0      256   \n",
        "14          15  207932459  Train    PS  104.278654               0      258   \n",
        "\n",
        "    AreaStatusCh1  AvgIntenCh1  AvgIntenCh2     ...       VarIntenCh1  \\\n",
        "1               1    31.923274   205.878517     ...         18.809225   \n",
        "2               0    28.038835   115.315534     ...         17.295643   \n",
        "3               0    19.456140   101.294737     ...         13.818968   \n",
        "11              0    18.828571   125.938776     ...         13.922937   \n",
        "14              0    17.570850   124.368421     ...         12.324971   \n",
        "\n",
        "    VarIntenCh3  VarIntenCh4  VarIntenStatusCh1  VarIntenStatusCh3  \\\n",
        "1     56.715352   118.388139                  0                  0   \n",
        "2     37.671053    49.470524                  0                  0   \n",
        "3     30.005643    24.749537                  0                  0   \n",
        "11    18.643027    40.331747                  0                  0   \n",
        "14    17.747143    41.928533                  0                  0   \n",
        "\n",
        "    VarIntenStatusCh4   WidthCh1  WidthStatusCh1  XCentroid  YCentroid  \n",
        "1                   0  32.161261               1        215        347  \n",
        "2                   0  21.185525               0        371        252  \n",
        "3                   2  13.392830               0        487        295  \n",
        "11                  2  17.546861               0        211        495  \n",
        "14                  2  17.660339               0        172        207  \n",
        "\n",
        "[5 rows x 120 columns]"
       ]
      }
     ],
     "prompt_number": 6
    },
    {
     "cell_type": "heading",
     "level": 2,
     "metadata": {},
     "source": [
      "3.2 Data Transformation for Individual Predictors"
     ]
    },
    {
     "cell_type": "markdown",
     "metadata": {},
     "source": [
      "Transformations of predictor variables may be needed for several reasons. Some modeling techniques may have strict requirements, such as the predictors having a commom scale. In other cases, creating a good model may be difficult due to specific characteristics of the data (e.g., outliers)."
     ]
    },
    {
     "cell_type": "heading",
     "level": 3,
     "metadata": {},
     "source": [
      "Centering and Scaling"
     ]
    },
    {
     "cell_type": "markdown",
     "metadata": {},
     "source": [
      "To center a predictor variable, the average predictor value is substracted from all the values. As a result of centering, the predictor has a zero mean. Similarly, to scale the data, each value of the predictor variable is divided by its standard deviation. Scaling the data coerce the values to have a common standard deviation of one. These manipulations are generally used to improve the numerical stability of some calculations, such as PLS. The only real downside to these transformation is a loss of interpretability of the individual values."
     ]
    },
    {
     "cell_type": "heading",
     "level": 3,
     "metadata": {},
     "source": [
      "Transformations to Resolve Skewness"
     ]
    },
    {
     "cell_type": "markdown",
     "metadata": {},
     "source": [
      "An un-skewed distribution is one that is roughly symmetric. A rule of thumb to consider is that skewed data whose ratio of the highest value to the lowest value is greater than 20 have significant skewness. The sample skewness statistic is defined $$\\text{skewness} = {\\sum (x_i - \\bar{x})^3 \\over (n - 1) v^{3/2}},$$ where $$v = {\\sum (x_i - \\bar{x})^2 \\over (n - 1)}.$$ Note that the skewness for a normal distribution is zero."
     ]
    },
    {
     "cell_type": "markdown",
     "metadata": {},
     "source": [
      "The cell segmentation data contain a predictor that measures the standard deviation of the intensity of the pixels in the actin filaments."
     ]
    },
    {
     "cell_type": "code",
     "collapsed": false,
     "input": [
      "%matplotlib inline\n",
      "import matplotlib.pyplot as plt\n",
      "\n",
      "# Some nice default configuration for plots\n",
      "plt.rcParams['figure.figsize'] = 10, 7.5\n",
      "plt.rcParams['axes.grid'] = True\n",
      "plt.gray()"
     ],
     "language": "python",
     "metadata": {},
     "outputs": [
      {
       "metadata": {},
       "output_type": "display_data",
       "text": [
        "<matplotlib.figure.Figure at 0x10d9899d0>"
       ]
      }
     ],
     "prompt_number": 7
    },
    {
     "cell_type": "code",
     "collapsed": false,
     "input": [
      "fig, (ax1, ax2, ax3) = plt.subplots(1, 3)\n",
      "\n",
      "ax1.hist(cell_train['VarIntenCh3'].values, bins=20)\n",
      "ax1.set_xlabel('Natural Units')\n",
      "ax1.set_ylabel('Count')\n",
      "\n",
      "ax2.hist(np.log(cell_train['VarIntenCh3'].values), bins=20)\n",
      "ax2.set_xlabel('Log Units')\n",
      "\n",
      "ax3.hist(np.sqrt(cell_train['VarIntenCh3'].values), bins=20)\n",
      "ax3.set_xlabel('Square Root Units')"
     ],
     "language": "python",
     "metadata": {},
     "outputs": [
      {
       "metadata": {},
       "output_type": "pyout",
       "prompt_number": 72,
       "text": [
        "<matplotlib.text.Text at 0x117b41a90>"
       ]
      },
      {
       "metadata": {},
       "output_type": "display_data",
       "png": "[encoded data removed]",
       "text": [
        "<matplotlib.figure.Figure at 0x11612e750>"
       ]
      }
     ],
     "prompt_number": 72
    },
    {
     "cell_type": "markdown",
     "metadata": {},
     "source": [
      "The histogram shows a strong right skewness. The log transformation seems to work well for this dataset. The ratio of the smallest to largest value and the sample skewness statistic all agree with the histogram under natural units."
     ]
    },
    {
     "cell_type": "code",
     "collapsed": false,
     "input": [
      "from scipy.stats import skew\n",
      "\n",
      "r = np.max(cell_train['VarIntenCh3'].values)/np.min(cell_train['VarIntenCh3'].values)\n",
      "skewness = skew(cell_train['VarIntenCh3'].values)\n",
      "\n",
      "print 'Ratio of the smallest to largest value is {0} \\nSample skewness statistic is {1}'.format(r, skewness)"
     ],
     "language": "python",
     "metadata": {},
     "outputs": [
      {
       "output_type": "stream",
       "stream": "stdout",
       "text": [
        "Ratio of the smallest to largest value is 870.887247203 \n",
        "Sample skewness statistic is 2.39518418124\n"
       ]
      }
     ],
     "prompt_number": 70
    },
    {
     "cell_type": "markdown",
     "metadata": {},
     "source": [
      "Alternatively, statistical models can be used to empirically identify an appropriate transformation. One of the most famous transformations is the Box-Cox family, i.e.\n",
      "\\begin{equation}\n",
      "x^* \\begin{cases} {x^{\\lambda}-1 \\over \\lambda} & \\text{if} \\ \\lambda \\neq 0 \\\\ log(x) & \\text{if} \\ \\lambda = 0 \\end{cases}\n",
      "\\end{equation}\n",
      "This family covers the log ($\\lambda = 0$), square ($\\lambda = 2$), square root ($\\lambda = 0.5$), inverse ($\\lambda = -1$), and others in-between. Using the training data, $\\lambda$ can be estimated using maximum likelihood estimation (MLE). This procedure would be applied independently to each predictor data that contain values **greater than 0**."
     ]
    },
    {
     "cell_type": "markdown",
     "metadata": {},
     "source": [
      "The boxcox() in *scipy.stats* finds the estimated lambda and performs the transformation at the same time."
     ]
    },
    {
     "cell_type": "code",
     "collapsed": false,
     "input": [
      "from scipy.stats import boxcox\n",
      "\n",
      "print 'Estimated lambda is {0}'.format(boxcox(cell_train['VarIntenCh3'].values)[1])"
     ],
     "language": "python",
     "metadata": {},
     "outputs": [
      {
       "output_type": "stream",
       "stream": "stdout",
       "text": [
        "Estimated lambda is 0.121531937325\n"
       ]
      }
     ],
     "prompt_number": 77
    },
    {
     "cell_type": "markdown",
     "metadata": {},
     "source": [
      "Take another predictor for example."
     ]
    },
    {
     "cell_type": "code",
     "collapsed": false,
     "input": [
      "fig, (ax1, ax2) = plt.subplots(1, 2)\n",
      "\n",
      "ax1.hist(cell_train['PerimCh1'].values, bins=20)\n",
      "ax1.set_xlabel('Natural Units')\n",
      "ax1.set_ylabel('Count')\n",
      "\n",
      "ax2.hist(boxcox(cell_train['PerimCh1'].values)[0], bins=20)\n",
      "ax2.set_xlabel('Transformed Data (lambda = {:1.4f})'.format(boxcox(cell_train['PerimCh1'].values)[1]))"
     ],
     "language": "python",
     "metadata": {},
     "outputs": [
      {
       "metadata": {},
       "output_type": "pyout",
       "prompt_number": 97,
       "text": [
        "<matplotlib.text.Text at 0x11ba6e290>"
       ]
      },
      {
       "metadata": {},
       "output_type": "display_data",
       "png": "[encoded data removed]",
       "text": [
        "<matplotlib.figure.Figure at 0x11b5289d0>"
       ]
      }
     ],
     "prompt_number": 97
    },
    {
     "cell_type": "heading",
     "level": 2,
     "metadata": {},
     "source": [
      "3.3 Data Transformations for Multiple Predictors"
     ]
    },
    {
     "cell_type": "code",
     "collapsed": false,
     "input": [],
     "language": "python",
     "metadata": {},
     "outputs": []
    }
   ],
   "metadata": {}
  }
 ]
}