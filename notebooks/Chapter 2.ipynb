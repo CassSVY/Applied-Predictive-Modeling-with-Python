{
 "metadata": {
  "name": "",
  "signature": "sha256:55f0d8622277a44a5e9617872318535a72e37ffc3270a3edcb7cac9da30ef84a"
 },
 "nbformat": 3,
 "nbformat_minor": 0,
 "worksheets": [
  {
   "cells": [
    {
     "cell_type": "heading",
     "level": 1,
     "metadata": {},
     "source": [
      "2. A Short Tour of the Predictive Modeling Process"
     ]
    },
    {
     "cell_type": "markdown",
     "metadata": {},
     "source": [
      "Introduce the broad concepts of modeling building, i.e. building candidate models and selecting the op"
     ]
    },
    {
     "cell_type": "heading",
     "level": 2,
     "metadata": {},
     "source": [
      "2.1 Case Study: Predicting Fuel Economy"
     ]
    },
    {
     "cell_type": "code",
     "collapsed": false,
     "input": [],
     "language": "python",
     "metadata": {},
     "outputs": []
    }
   ],
   "metadata": {}
  }
 ]
}